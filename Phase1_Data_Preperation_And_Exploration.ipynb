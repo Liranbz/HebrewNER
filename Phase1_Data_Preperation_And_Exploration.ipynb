{
 "cells": [
  {
   "cell_type": "code",
   "execution_count": 1,
   "metadata": {},
   "outputs": [],
   "source": [
    "from IPython.display import Image\n",
    "from IPython.core.display import HTML \n",
    "import os\n",
    "import pandas as pd\n",
    "import nltk\n",
    "from collections import Counter"
   ]
  },
  {
   "cell_type": "markdown",
   "metadata": {},
   "source": [
    "# Stage 1: Dataset Preparation"
   ]
  },
  {
   "cell_type": "markdown",
   "metadata": {},
   "source": [
    "1. Downloading naama's corpus from here: https://www.cs.bgu.ac.il/~elhadad/nlpproj/naama/\n",
    "2. **Transorming the tagged data to be sequence of words** in order to activate LDA (Adler's code)\n",
    "Using function corpus_to_text(): \n",
    "\n",
    "    ```python\n",
    "    def corpus_to_text():\n",
    "        data_path = \"resources\" + os.sep + \"tagged_corpus_naama.txt\"\n",
    "        with open(data_path, 'r', encoding='utf8') as f:\n",
    "            all_text = []\n",
    "            lines = f.readlines()\n",
    "            for line in lines:\n",
    "                all_text.append(line.split(\" \")[0])\n",
    "\n",
    "        all_text_str = \" \".join(all_text)\n",
    "        data_str_path = \"resources\" + os.sep + \"corpus_text_naama.txt\"\n",
    "        with open(data_str_path, 'w', encoding='utf8') as f:\n",
    "            f.write(all_text_str)\n",
    "    ```\n",
    "\n",
    "3. Using **hebtokenizer.py** in order to tokenize the sequence of words, in order for making it suitable input for Adler's LDA Code. \n",
    "> python hebtokenizer.py \"corpus_text_naama.txt\" \"corpus_text_naama_tokenized.txt\"\n",
    "\n",
    "4. Download **LDA code** from here: https://www.cs.bgu.ac.il/~elhadad/nlpproj/LDAforHebrew.html\n",
    "5. Editing **lemlda\\tagger\\tag.bat** code in order to be able to receive the data as conll:\n",
    "\n",
    "    > REM Use -bWST for white space tagger instead of the broken Mila tagger.\n",
    "     REM This assumes the text has been tokenized before with hebtokenizer.py\n",
    "     java -Xmx1200m -cp trove- 2.0.2.jar;XMLAnalyzer.jar;morphAnalyzer.jar;opennlp.jar;gnu.jar;chunker.jar;splitsvm.jar;duck1.jar;tagger.jar > vohmm.application.BasicTagger %~dp0 %~f1 %~f2 -bWST -conll\n",
    "\n",
    "        The change - is to add the '-conll' tag in the end of the usage line. \n",
    "\n",
    "6. Now we can **use Adler's LDA Code!** \n",
    "\n",
    "    cd lemlda\\tagger and execute:\n",
    "> tag \"corpus_text_naama_tokenized.txt\" \"corpus_text_naama_processed.txt\"\n",
    "\n",
    "7. Now we have 2 main files: \n",
    "\n",
    "    a) tagged_corpus_naama - the original tagged corpus (bio tag for each name)\n",
    "\n",
    "> --  DOCSTART-- O  \n",
    "    אחד O  \n",
    "    מכל O  \n",
    "    שני O  \n",
    "    ישראלים I_MISC__AFF  \n",
    "    אוכלים O  \n",
    "    קורנפלקס O  \n",
    "    . O  \n",
    "    \n",
    "    b) corpos_text_naama_processed - features for each word without the bio tag\n",
    "    \n",
    ">   99 DOCSTART DOCSTART DOCSTART foreign unspecified unspecified unspecified unspecified unspecified  \n",
    "    100 - - - punctuation unspecified unspecified unspecified unspecified unspecified  \n",
    "    101 - - - punctuation unspecified unspecified unspecified unspecified unspecified  \n",
    "    102 אחד CARD1 אחד numeral masculine singular absolute unspecified unspecified  \n",
    "    103 מ מ מכל preposition unspecified unspecified unspecified unspecified unspecified 0  \n",
    "    103 כל כול מכל quantifier unspecified unspecified construct unspecified unspecified  \n",
    "    104 שני שני שני noun masculine singular absolute unspecified unspecified  \n",
    "    105 ישראלים ישראלי ישראלים noun masculine plural absolute unspecified unspecified  \n",
    "    106 אוכלים אוכל אוכלים noun masculine plural absolute unspecified unspecified  \n",
    "    107 קורנפלקס קורנפלקס קורנפלקס properName unspecified unspecified unspecified unspecified unspecified  \n",
    "    108 . . . punctuation unspecified unspecified unspecified unspecified unspecified \n",
    "\n",
    "   We want to **merge** those files. \n",
    "   \n",
    "   In order to do it, we'll use **CorpusTagMerger.py** file, and receive merged output:    \n",
    "\n",
    "> אחד O 102 CARD1 אחד numeral masculine singular absolute unspecified unspecified no_pref no_suffix\n",
    "כל O 103 כול מכל quantifier unspecified unspecified construct unspecified unspecified מ no_suffix\n",
    "שני O 104 שני שני noun masculine singular absolute unspecified unspecified no_pref no_suffix\n",
    "ישראלים I_MISC__AFF 105 ישראלי ישראלים noun masculine plural absolute unspecified unspecified no_pref no_suffix\n",
    "אוכלים O 106 אוכל אוכלים noun masculine plural absolute unspecified unspecified no_pref no_suffix\n",
    "קורנפלקס O 107 קורנפלקס קורנפלקס properName unspecified unspecified unspecified unspecified unspecified no_pref no_suffix\n",
    ". O 108 . . punctuation unspecified unspecified unspecified unspecified unspecified no_pref no_suffix\n",
    "\n",
    "Notice we did it by taking the prefix or the suffix (if they were relevant) as features.  \n",
    "For example for the word 'מכל' we have prefix of 'מ'. (Prefix which indicates \"from\" in hebrew) \n",
    "For the word 'קורנפלקס' we don't have a prefix nor suffix.  \n",
    "For the word 'כשהלכתי' we have prefix of 'כש' and a suffix of 'תי'. (Prefix which indicates \"While\" in hebrew)  \n",
    "\n",
    "For convenience, we'll make pandas dataframe of this output in order to get a nice structure.\n",
    "\n",
    "This dataframe we'll be saved at **resources\\dataset.csv**\n",
    "\n",
    "Let's observe part of it:"
   ]
  },
  {
   "cell_type": "code",
   "execution_count": 4,
   "metadata": {},
   "outputs": [
    {
     "data": {
      "text/html": [
       "<div>\n",
       "<style scoped>\n",
       "    .dataframe tbody tr th:only-of-type {\n",
       "        vertical-align: middle;\n",
       "    }\n",
       "\n",
       "    .dataframe tbody tr th {\n",
       "        vertical-align: top;\n",
       "    }\n",
       "\n",
       "    .dataframe thead th {\n",
       "        text-align: right;\n",
       "    }\n",
       "</style>\n",
       "<table border=\"1\" class=\"dataframe\">\n",
       "  <thead>\n",
       "    <tr style=\"text-align: right;\">\n",
       "      <th></th>\n",
       "      <th>Bio</th>\n",
       "      <th>Gender</th>\n",
       "      <th>Lemma</th>\n",
       "      <th>Number</th>\n",
       "      <th>Person</th>\n",
       "      <th>Pos</th>\n",
       "      <th>Prefix</th>\n",
       "      <th>Status</th>\n",
       "      <th>Suffix</th>\n",
       "      <th>Tense</th>\n",
       "      <th>Token</th>\n",
       "      <th>TokenOrder</th>\n",
       "      <th>Word</th>\n",
       "    </tr>\n",
       "  </thead>\n",
       "  <tbody>\n",
       "    <tr>\n",
       "      <th>0</th>\n",
       "      <td>O</td>\n",
       "      <td>unspecified</td>\n",
       "      <td>DOCSTART</td>\n",
       "      <td>unspecified</td>\n",
       "      <td>unspecified</td>\n",
       "      <td>foreign</td>\n",
       "      <td>no_pref</td>\n",
       "      <td>unspecified</td>\n",
       "      <td>no_suffix</td>\n",
       "      <td>unspecified</td>\n",
       "      <td>DOCSTART</td>\n",
       "      <td>99</td>\n",
       "      <td>DOCSTART</td>\n",
       "    </tr>\n",
       "    <tr>\n",
       "      <th>1</th>\n",
       "      <td>O</td>\n",
       "      <td>masculine</td>\n",
       "      <td>CARD1</td>\n",
       "      <td>singular</td>\n",
       "      <td>unspecified</td>\n",
       "      <td>numeral</td>\n",
       "      <td>no_pref</td>\n",
       "      <td>absolute</td>\n",
       "      <td>no_suffix</td>\n",
       "      <td>unspecified</td>\n",
       "      <td>אחד</td>\n",
       "      <td>102</td>\n",
       "      <td>אחד</td>\n",
       "    </tr>\n",
       "    <tr>\n",
       "      <th>2</th>\n",
       "      <td>O</td>\n",
       "      <td>unspecified</td>\n",
       "      <td>כול</td>\n",
       "      <td>unspecified</td>\n",
       "      <td>unspecified</td>\n",
       "      <td>quantifier</td>\n",
       "      <td>מ</td>\n",
       "      <td>construct</td>\n",
       "      <td>no_suffix</td>\n",
       "      <td>unspecified</td>\n",
       "      <td>מכל</td>\n",
       "      <td>103</td>\n",
       "      <td>כל</td>\n",
       "    </tr>\n",
       "    <tr>\n",
       "      <th>3</th>\n",
       "      <td>O</td>\n",
       "      <td>masculine</td>\n",
       "      <td>שני</td>\n",
       "      <td>singular</td>\n",
       "      <td>unspecified</td>\n",
       "      <td>noun</td>\n",
       "      <td>no_pref</td>\n",
       "      <td>absolute</td>\n",
       "      <td>no_suffix</td>\n",
       "      <td>unspecified</td>\n",
       "      <td>שני</td>\n",
       "      <td>104</td>\n",
       "      <td>שני</td>\n",
       "    </tr>\n",
       "    <tr>\n",
       "      <th>4</th>\n",
       "      <td>I_MISC__AFF</td>\n",
       "      <td>masculine</td>\n",
       "      <td>ישראלי</td>\n",
       "      <td>plural</td>\n",
       "      <td>unspecified</td>\n",
       "      <td>noun</td>\n",
       "      <td>no_pref</td>\n",
       "      <td>absolute</td>\n",
       "      <td>no_suffix</td>\n",
       "      <td>unspecified</td>\n",
       "      <td>ישראלים</td>\n",
       "      <td>105</td>\n",
       "      <td>ישראלים</td>\n",
       "    </tr>\n",
       "  </tbody>\n",
       "</table>\n",
       "</div>"
      ],
      "text/plain": [
       "           Bio       Gender     Lemma       Number       Person         Pos  \\\n",
       "0            O  unspecified  DOCSTART  unspecified  unspecified     foreign   \n",
       "1            O    masculine     CARD1     singular  unspecified     numeral   \n",
       "2            O  unspecified       כול  unspecified  unspecified  quantifier   \n",
       "3            O    masculine       שני     singular  unspecified        noun   \n",
       "4  I_MISC__AFF    masculine    ישראלי       plural  unspecified        noun   \n",
       "\n",
       "    Prefix       Status     Suffix        Tense     Token  TokenOrder  \\\n",
       "0  no_pref  unspecified  no_suffix  unspecified  DOCSTART          99   \n",
       "1  no_pref     absolute  no_suffix  unspecified       אחד         102   \n",
       "2        מ    construct  no_suffix  unspecified       מכל         103   \n",
       "3  no_pref     absolute  no_suffix  unspecified       שני         104   \n",
       "4  no_pref     absolute  no_suffix  unspecified   ישראלים         105   \n",
       "\n",
       "       Word  \n",
       "0  DOCSTART  \n",
       "1       אחד  \n",
       "2        כל  \n",
       "3       שני  \n",
       "4   ישראלים  "
      ]
     },
     "execution_count": 4,
     "metadata": {},
     "output_type": "execute_result"
    }
   ],
   "source": [
    "dataset = pd.read_csv('resources' + os.sep + 'dataset.csv')\n",
    "dataset.head(5)"
   ]
  },
  {
   "cell_type": "markdown",
   "metadata": {},
   "source": [
    "Now we want to change the **BIO** tags to **BILUO** which means Begin, In, Last, Unit, O. \n",
    "\n",
    "We'll use the following code:\n",
    "```python\n",
    "BASIC_BIO_TAGS = {'MISC', 'PERCENT', 'LOC', 'TIME', 'ORG', 'PERS', 'DATE', 'MONEY'}\n",
    "\n",
    "def split_tag_to_basic(tag):\n",
    "    if len(tag.split(\"_\")) > 1:\n",
    "        return tag.split(\"_\")[1].rstrip(\"\\n\")\n",
    "    else:\n",
    "        return tag\n",
    "    \n",
    "def get_tags_df(i, lines):\n",
    "    prev_line = lines.iloc[i - 1]\n",
    "    curr_line = lines.iloc[i]\n",
    "    next_line = lines.iloc[i + 1]\n",
    "\n",
    "    prev_tag = prev_line['Bio']\n",
    "    curr_tag = curr_line['Bio']\n",
    "    next_tag = next_line['Bio']\n",
    "\n",
    "    return prev_tag, curr_tag, next_tag\n",
    "\n",
    "dataset = pd.read_csv(\"resources\" + os.sep + \"dataset.csv\")\n",
    "for i in range(0, len(dataset)-1):\n",
    "    prev_tag, curr_tag, next_tag = get_tags_df(i, dataset)\n",
    "    new_tag = curr_tag\n",
    "    if split_tag_to_basic(curr_tag) in BASIC_BIO_TAGS:\n",
    "        if split_tag_to_basic(prev_tag) != split_tag_to_basic(curr_tag) and split_tag_to_basic(\n",
    "                curr_tag) != split_tag_to_basic(next_tag):\n",
    "            new_tag = 'U-' + split_tag_to_basic(curr_tag)\n",
    "        else:\n",
    "            if split_tag_to_basic(prev_tag) == split_tag_to_basic(curr_tag):\n",
    "                if split_tag_to_basic(curr_tag) != split_tag_to_basic(next_tag):\n",
    "                    new_tag = 'L-' + split_tag_to_basic(curr_tag)\n",
    "                else:  # split_tag_to_basic(curr_tag) == split_tag_to_basic(next_tag)\n",
    "                    new_tag = 'I-' + split_tag_to_basic(curr_tag)\n",
    "            else:  # split_tag_to_basic(prev_tag) != split_tag_to_basic(curr_tag) BUT split_tag_to_basic(curr_tag) != split_tag_to_basic(next_tag)\n",
    "                new_tag = 'B-' + split_tag_to_basic(curr_tag)\n",
    "    dataset.at[i, 'BILUO'] = new_tag\n",
    "dataset.drop(columns=['Bio'])\n",
    "dataset.to_csv(\"dataset_biluo.csv\", index=False)\n",
    "```\n",
    "\n",
    "Which we'll produce the final file **dataset_biluo.csv** \n",
    "\n",
    "Now we'll see example how to **bio_to_biluo** function works: \n"
   ]
  },
  {
   "cell_type": "code",
   "execution_count": 11,
   "metadata": {},
   "outputs": [
    {
     "data": {
      "image/png": "[encoded data removed]",
      "text/plain": [
       "<IPython.core.display.Image object>"
      ]
     },
     "execution_count": 11,
     "metadata": {},
     "output_type": "execute_result"
    }
   ],
   "source": [
    "pic_path = 'resources' + os.sep + 'PicForNotebook.PNG'\n",
    "Image(filename = pic_path)"
   ]
  },
  {
   "cell_type": "markdown",
   "metadata": {},
   "source": [
    "As we can see, it substitude the I-X to be one of the following:\n",
    "* B-X (If it's in the beginning) \n",
    "* I-X (If it's in the middle)\n",
    "* L-X (If it's last)\n",
    "* U-X (if it's one init)"
   ]
  },
  {
   "cell_type": "code",
   "execution_count": 9,
   "metadata": {},
   "outputs": [
    {
     "data": {
      "text/html": [
       "<div>\n",
       "<style scoped>\n",
       "    .dataframe tbody tr th:only-of-type {\n",
       "        vertical-align: middle;\n",
       "    }\n",
       "\n",
       "    .dataframe tbody tr th {\n",
       "        vertical-align: top;\n",
       "    }\n",
       "\n",
       "    .dataframe thead th {\n",
       "        text-align: right;\n",
       "    }\n",
       "</style>\n",
       "<table border=\"1\" class=\"dataframe\">\n",
       "  <thead>\n",
       "    <tr style=\"text-align: right;\">\n",
       "      <th></th>\n",
       "      <th>Bio</th>\n",
       "      <th>Gender</th>\n",
       "      <th>Lemma</th>\n",
       "      <th>Number</th>\n",
       "      <th>Person</th>\n",
       "      <th>Pos</th>\n",
       "      <th>Prefix</th>\n",
       "      <th>Status</th>\n",
       "      <th>Suffix</th>\n",
       "      <th>Tense</th>\n",
       "      <th>Token</th>\n",
       "      <th>TokenOrder</th>\n",
       "      <th>Word</th>\n",
       "      <th>BILUO</th>\n",
       "    </tr>\n",
       "  </thead>\n",
       "  <tbody>\n",
       "    <tr>\n",
       "      <th>62886</th>\n",
       "      <td>I_MONEY</td>\n",
       "      <td>unspecified</td>\n",
       "      <td>###NUMBER###</td>\n",
       "      <td>unspecified</td>\n",
       "      <td>unspecified</td>\n",
       "      <td>numeral</td>\n",
       "      <td>no_pref</td>\n",
       "      <td>unspecified</td>\n",
       "      <td>no_suffix</td>\n",
       "      <td>unspecified</td>\n",
       "      <td>###NUMBER###</td>\n",
       "      <td>63866</td>\n",
       "      <td>###NUMBER###</td>\n",
       "      <td>B-MONEY</td>\n",
       "    </tr>\n",
       "    <tr>\n",
       "      <th>62887</th>\n",
       "      <td>I_MONEY</td>\n",
       "      <td>masculine</td>\n",
       "      <td>ORD-CARD1000000</td>\n",
       "      <td>plural</td>\n",
       "      <td>unspecified</td>\n",
       "      <td>numeral</td>\n",
       "      <td>no_pref</td>\n",
       "      <td>absolute</td>\n",
       "      <td>no_suffix</td>\n",
       "      <td>unspecified</td>\n",
       "      <td>מיליון</td>\n",
       "      <td>63867</td>\n",
       "      <td>מיליון</td>\n",
       "      <td>I-MONEY</td>\n",
       "    </tr>\n",
       "    <tr>\n",
       "      <th>62888</th>\n",
       "      <td>I_MONEY</td>\n",
       "      <td>masculine</td>\n",
       "      <td>דולר</td>\n",
       "      <td>singular</td>\n",
       "      <td>unspecified</td>\n",
       "      <td>noun</td>\n",
       "      <td>no_pref</td>\n",
       "      <td>absolute</td>\n",
       "      <td>no_suffix</td>\n",
       "      <td>unspecified</td>\n",
       "      <td>דולר</td>\n",
       "      <td>63868</td>\n",
       "      <td>דולר</td>\n",
       "      <td>L-MONEY</td>\n",
       "    </tr>\n",
       "    <tr>\n",
       "      <th>62889</th>\n",
       "      <td>O</td>\n",
       "      <td>feminine</td>\n",
       "      <td>שינה</td>\n",
       "      <td>singular</td>\n",
       "      <td>unspecified</td>\n",
       "      <td>noun</td>\n",
       "      <td>ב</td>\n",
       "      <td>construct</td>\n",
       "      <td>no_suffix</td>\n",
       "      <td>unspecified</td>\n",
       "      <td>בשנת</td>\n",
       "      <td>63869</td>\n",
       "      <td>שנת</td>\n",
       "      <td>O</td>\n",
       "    </tr>\n",
       "    <tr>\n",
       "      <th>62890</th>\n",
       "      <td>I_DATE</td>\n",
       "      <td>unspecified</td>\n",
       "      <td>###NUMBER###</td>\n",
       "      <td>unspecified</td>\n",
       "      <td>unspecified</td>\n",
       "      <td>numeral</td>\n",
       "      <td>no_pref</td>\n",
       "      <td>unspecified</td>\n",
       "      <td>no_suffix</td>\n",
       "      <td>unspecified</td>\n",
       "      <td>###NUMBER###</td>\n",
       "      <td>63870</td>\n",
       "      <td>###NUMBER###</td>\n",
       "      <td>U-DATE</td>\n",
       "    </tr>\n",
       "    <tr>\n",
       "      <th>62891</th>\n",
       "      <td>O</td>\n",
       "      <td>unspecified</td>\n",
       "      <td>.</td>\n",
       "      <td>unspecified</td>\n",
       "      <td>unspecified</td>\n",
       "      <td>punctuation</td>\n",
       "      <td>no_pref</td>\n",
       "      <td>unspecified</td>\n",
       "      <td>no_suffix</td>\n",
       "      <td>unspecified</td>\n",
       "      <td>.</td>\n",
       "      <td>63871</td>\n",
       "      <td>.</td>\n",
       "      <td>O</td>\n",
       "    </tr>\n",
       "    <tr>\n",
       "      <th>62892</th>\n",
       "      <td>I_ORG</td>\n",
       "      <td>unspecified</td>\n",
       "      <td>ריטליקס</td>\n",
       "      <td>unspecified</td>\n",
       "      <td>unspecified</td>\n",
       "      <td>properName</td>\n",
       "      <td>no_pref</td>\n",
       "      <td>unspecified</td>\n",
       "      <td>no_suffix</td>\n",
       "      <td>unspecified</td>\n",
       "      <td>ריטליקס</td>\n",
       "      <td>63872</td>\n",
       "      <td>ריטליקס</td>\n",
       "      <td>U-ORG</td>\n",
       "    </tr>\n",
       "    <tr>\n",
       "      <th>62893</th>\n",
       "      <td>O</td>\n",
       "      <td>feminine</td>\n",
       "      <td>פיתח</td>\n",
       "      <td>singular</td>\n",
       "      <td>any</td>\n",
       "      <td>participle</td>\n",
       "      <td>no_pref</td>\n",
       "      <td>absolute</td>\n",
       "      <td>no_suffix</td>\n",
       "      <td>unspecified</td>\n",
       "      <td>מפתחת</td>\n",
       "      <td>63873</td>\n",
       "      <td>מפתחת</td>\n",
       "      <td>O</td>\n",
       "    </tr>\n",
       "  </tbody>\n",
       "</table>\n",
       "</div>"
      ],
      "text/plain": [
       "           Bio       Gender            Lemma       Number       Person  \\\n",
       "62886  I_MONEY  unspecified     ###NUMBER###  unspecified  unspecified   \n",
       "62887  I_MONEY    masculine  ORD-CARD1000000       plural  unspecified   \n",
       "62888  I_MONEY    masculine             דולר     singular  unspecified   \n",
       "62889        O     feminine             שינה     singular  unspecified   \n",
       "62890   I_DATE  unspecified     ###NUMBER###  unspecified  unspecified   \n",
       "62891        O  unspecified                .  unspecified  unspecified   \n",
       "62892    I_ORG  unspecified          ריטליקס  unspecified  unspecified   \n",
       "62893        O     feminine             פיתח     singular          any   \n",
       "\n",
       "               Pos   Prefix       Status     Suffix        Tense  \\\n",
       "62886      numeral  no_pref  unspecified  no_suffix  unspecified   \n",
       "62887      numeral  no_pref     absolute  no_suffix  unspecified   \n",
       "62888         noun  no_pref     absolute  no_suffix  unspecified   \n",
       "62889         noun        ב    construct  no_suffix  unspecified   \n",
       "62890      numeral  no_pref  unspecified  no_suffix  unspecified   \n",
       "62891  punctuation  no_pref  unspecified  no_suffix  unspecified   \n",
       "62892   properName  no_pref  unspecified  no_suffix  unspecified   \n",
       "62893   participle  no_pref     absolute  no_suffix  unspecified   \n",
       "\n",
       "              Token  TokenOrder          Word    BILUO  \n",
       "62886  ###NUMBER###       63866  ###NUMBER###  B-MONEY  \n",
       "62887        מיליון       63867        מיליון  I-MONEY  \n",
       "62888          דולר       63868          דולר  L-MONEY  \n",
       "62889          בשנת       63869           שנת        O  \n",
       "62890  ###NUMBER###       63870  ###NUMBER###   U-DATE  \n",
       "62891             .       63871             .        O  \n",
       "62892       ריטליקס       63872       ריטליקס    U-ORG  \n",
       "62893         מפתחת       63873         מפתחת        O  "
      ]
     },
     "execution_count": 9,
     "metadata": {},
     "output_type": "execute_result"
    }
   ],
   "source": [
    "biluo_dataset = pd.read_csv('resources' + os.sep + 'dataset_biluo.csv')\n",
    "biluo_dataset[62886: 62894]"
   ]
  },
  {
   "cell_type": "markdown",
   "metadata": {},
   "source": [
    "As we can see, it substitude the I-X to be one of the following:\n",
    "* B-X (If it's in the beginning) \n",
    "* I-X (If it's in the middle)\n",
    "* L-X (If it's last)\n",
    "* U-X (if it's one init)\n"
   ]
  },
  {
   "cell_type": "markdown",
   "metadata": {},
   "source": [
    "# STATISTICS 📊 📈 📉"
   ]
  },
  {
   "cell_type": "markdown",
   "metadata": {},
   "source": [
    "* Report statistics on the dataset (number of tokens, number of chunks of each type, tags of each type, vocabulary size, number of sentences, average length of sentences) "
   ]
  },
  {
   "cell_type": "code",
   "execution_count": 33,
   "metadata": {},
   "outputs": [],
   "source": [
    "with open('resources' + os.sep + 'tagged_corpus_naama.txt', 'r', encoding='utf-8') as f:\n",
    "    tagged_corpus = f.readlines()\n",
    "\n",
    "with open('resources' + os.sep + 'corpus_text_naama.txt', 'r', encoding='utf-8') as f:\n",
    "    corpus_lines = f.readlines()"
   ]
  },
  {
   "cell_type": "code",
   "execution_count": null,
   "metadata": {},
   "outputs": [],
   "source": [
    "corpus_txt = \" \".join(corpus_lines)"
   ]
  },
  {
   "cell_type": "markdown",
   "metadata": {},
   "source": [
    "## Number of tokens"
   ]
  },
  {
   "cell_type": "code",
   "execution_count": 19,
   "metadata": {},
   "outputs": [
    {
     "data": {
      "text/plain": [
       "18601"
      ]
     },
     "execution_count": 19,
     "metadata": {},
     "output_type": "execute_result"
    }
   ],
   "source": [
    "number_of_tokens = len(set(nltk.word_tokenize(corpus_txt)))"
   ]
  },
  {
   "cell_type": "markdown",
   "metadata": {},
   "source": [
    "## Number of tags of each type"
   ]
  },
  {
   "cell_type": "code",
   "execution_count": 56,
   "metadata": {},
   "outputs": [],
   "source": [
    "all_tags_lst = []\n",
    "all_words_set = set()\n",
    "\n",
    "for sentence in tagged_corpus:\n",
    "    sentence_parts = [w.strip(\"\\n\") for w in sentence.split(\" \")]\n",
    "    all_words_set.add(sentence_parts[0])\n",
    "    if len(sentence_parts) > 1:\n",
    "        all_tags_lst.append(sentence_parts[1])\n",
    "\n",
    "c = Counter(all_tags_lst)"
   ]
  },
  {
   "cell_type": "code",
   "execution_count": 54,
   "metadata": {},
   "outputs": [
    {
     "data": {
      "text/plain": [
       "Counter({'O': 54699,\n",
       "         'I_PERS': 2109,\n",
       "         'I_MISC__ENT': 193,\n",
       "         'I_DATE': 633,\n",
       "         'I_ORG': 1992,\n",
       "         'I_LOC': 1572,\n",
       "         'I_MISC__AFF': 725,\n",
       "         'I_PERCENT': 257,\n",
       "         'B_LOC': 95,\n",
       "         'B_ORG': 26,\n",
       "         'B_MISC__AFF': 17,\n",
       "         'I_TIME': 57,\n",
       "         'I_MISC_EVENT': 114,\n",
       "         'B_DATE': 6,\n",
       "         'B_PERS': 43,\n",
       "         'I_MONEY': 551,\n",
       "         'B_MISC__ENT': 1,\n",
       "         'B_TIME': 1})"
      ]
     },
     "execution_count": 54,
     "metadata": {},
     "output_type": "execute_result"
    }
   ],
   "source": [
    "c"
   ]
  },
  {
   "cell_type": "markdown",
   "metadata": {},
   "source": [
    "## Vocabulary size"
   ]
  },
  {
   "cell_type": "code",
   "execution_count": 64,
   "metadata": {},
   "outputs": [
    {
     "data": {
      "text/plain": [
       "18759"
      ]
     },
     "execution_count": 64,
     "metadata": {},
     "output_type": "execute_result"
    }
   ],
   "source": [
    "if \"\" in all_words_set:\n",
    "    all_words_set.remove(\"\")\n",
    "\n",
    "len(all_words_set)"
   ]
  },
  {
   "cell_type": "markdown",
   "metadata": {},
   "source": [
    "## Number of sentences"
   ]
  },
  {
   "cell_type": "code",
   "execution_count": 24,
   "metadata": {},
   "outputs": [
    {
     "data": {
      "text/plain": [
       "3484"
      ]
     },
     "execution_count": 24,
     "metadata": {},
     "output_type": "execute_result"
    }
   ],
   "source": [
    "all_sentences = corpus_txt.split(\"\\n\")\n",
    "number_of_sentences = len(all_sentences)\n",
    "number_of_sentences"
   ]
  },
  {
   "cell_type": "markdown",
   "metadata": {},
   "source": [
    "## Average length of sentence"
   ]
  },
  {
   "cell_type": "code",
   "execution_count": 32,
   "metadata": {},
   "outputs": [
    {
     "data": {
      "text/plain": [
       "21.10792192881745"
      ]
     },
     "execution_count": 32,
     "metadata": {},
     "output_type": "execute_result"
    }
   ],
   "source": [
    "average_length_of_sentences = sum([len(sentence.split(\" \")) for sentence in all_sentences]) / len(all_sentences)\n",
    "average_length_of_sentences"
   ]
  },
  {
   "cell_type": "markdown",
   "metadata": {},
   "source": [
    "### Tags distribution"
   ]
  },
  {
   "cell_type": "code",
   "execution_count": 16,
   "metadata": {},
   "outputs": [
    {
     "data": {
      "text/plain": [
       "O            54541\n",
       "U-LOC          829\n",
       "U-MISC         735\n",
       "U-PERS         663\n",
       "B-PERS         662\n",
       "L-PERS         662\n",
       "L-ORG          646\n",
       "B-ORG          646\n",
       "U-ORG          455\n",
       "L-LOC          344\n",
       "B-LOC          344\n",
       "I-ORG          267\n",
       "U-DATE         203\n",
       "B-MONEY        189\n",
       "L-MONEY        189\n",
       "L-DATE         168\n",
       "B-DATE         168\n",
       "U-PERCENT      160\n",
       "I-MONEY        154\n",
       "I-PERS         151\n",
       "I-LOC          149\n",
       "B-MISC         109\n",
       "L-MISC         109\n",
       "I-DATE          98\n",
       "I-MISC          95\n",
       "L-PERCENT       47\n",
       "B-PERCENT       47\n",
       "U-MONEY         19\n",
       "L-TIME          18\n",
       "B-TIME          18\n",
       "I-TIME          12\n",
       "U-TIME          10\n",
       "I-PERCENT        3\n",
       "Name: BILUO, dtype: int64"
      ]
     },
     "execution_count": 16,
     "metadata": {},
     "output_type": "execute_result"
    }
   ],
   "source": [
    "biluo_dataset['BILUO'].value_counts()"
   ]
  },
  {
   "cell_type": "markdown",
   "metadata": {},
   "source": [
    "## Now we can go to 'Phase2_ML' and see the Machine Learning Part 😄 "
   ]
  }
 ],
 "metadata": {
  "kernelspec": {
   "display_name": "NLPConda36",
   "language": "python",
   "name": "nlpconda36"
  },
  "language_info": {
   "codemirror_mode": {
    "name": "ipython",
    "version": 3
   },
   "file_extension": ".py",
   "mimetype": "text/x-python",
   "name": "python",
   "nbconvert_exporter": "python",
   "pygments_lexer": "ipython3",
   "version": "3.6.6"
  }
 },
 "nbformat": 4,
 "nbformat_minor": 2
}
