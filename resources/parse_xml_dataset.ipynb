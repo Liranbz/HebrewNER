{
 "cells": [
  {
   "cell_type": "markdown",
   "metadata": {},
   "source": [
    "# Parsing Yael's dataset"
   ]
  },
  {
   "cell_type": "markdown",
   "metadata": {},
   "source": [
    "It quickly became clear that it would be useless to take into account all the xml tags, and the best would be to use only the data inside 'body' tags.\n",
    "\n",
    "The following code parses all the 'body's in the xml files in the directory \"yael_corpus\", and makes a file which matches to each word the xml tag which it is under. For words in 'tail' position, the tag 'O' was matched."
   ]
  },
  {
   "cell_type": "code",
   "execution_count": 8,
   "metadata": {},
   "outputs": [],
   "source": [
    "import xml.etree.ElementTree as ET"
   ]
  },
  {
   "cell_type": "code",
   "execution_count": 9,
   "metadata": {},
   "outputs": [],
   "source": [
    "f = open(\"yael_data.txt\", \"w\")"
   ]
  },
  {
   "cell_type": "code",
   "execution_count": 10,
   "metadata": {},
   "outputs": [],
   "source": [
    "def write_body(body):\n",
    "    if body.text:\n",
    "        for word in body.text.split(\" \"):\n",
    "            if len(word) and word.split():\n",
    "                f.write(body.tag.split(\"}\")[1] + \" \" + word + \"\\n\")\n",
    "    if body.tail:\n",
    "        for word in body.tail.split(\" \"):\n",
    "            if len(word) and word.split():\n",
    "                f.write(\"O\" + \" \" + word + \"\\n\")\n",
    "    for child in body:\n",
    "        write_body(child)\n",
    "\n",
    "def parse_tree(root):\n",
    "    body = None\n",
    "    for child in root:\n",
    "        if child.tag[-4:] == 'body':\n",
    "            body = child\n",
    "            break\n",
    "        else:\n",
    "            parse_tree(child)\n",
    "    if body is not None:\n",
    "        write_body(body)"
   ]
  },
  {
   "cell_type": "code",
   "execution_count": 11,
   "metadata": {},
   "outputs": [],
   "source": [
    "files = ['Alkoshi Gedalia.xml', 'alterman.xml', 'Dan_Almagor.xml', 'dvora_baron.xml', 'Even Shoshan.xml', 'gila_almagor.xml', 'groassman.xml', 'haim-guri.xml', 'keret.xml', 'Kobi Oz.xml', 'Kobner.xml', 'meir_ariel.xml', 'rabinian.xml', 'ron_feder.xml', 'tamar_caravan.xml', 'tei-nevo.xml', 'Tohar_Lev_Yoram.xml', 'yossi_banai_1.xml', 'Yossi_Banai.xml']"
   ]
  },
  {
   "cell_type": "code",
   "execution_count": 12,
   "metadata": {},
   "outputs": [],
   "source": [
    "filepaths = ['yael_corpus/' + filename for filename in files]"
   ]
  },
  {
   "cell_type": "code",
   "execution_count": 13,
   "metadata": {},
   "outputs": [],
   "source": [
    "for filepath in filepaths:\n",
    "    tree = ET.parse(filepath)\n",
    "    root = tree.getroot()\n",
    "    parse_tree(root)\n",
    "    f.write(\"\\n\\n\\n\\n\\n\")"
   ]
  },
  {
   "cell_type": "markdown",
   "metadata": {},
   "source": [
    "After looking at the results, we concluded that the many of the tags don't match uniquely to one of the tagset we're already using, meaning that some tags could be found on words belonging to different entities or 'O'.\n",
    "\n",
    "This was the matching (UNCLEAR means it tagged words of different kinds): \n",
    "\n",
    "movie MISC_ENT\n",
    "\n",
    "book MISC_ENT\n",
    "\n",
    "pubPlace LOC\n",
    "\n",
    "persName PER\n",
    "\n",
    "publisher ORG\n",
    "\n",
    "forename PER\n",
    "\n",
    "theater ORG\n",
    "\n",
    "said O\n",
    "\n",
    "orgName ORG\n",
    "\n",
    "award MISC_EVENT\n",
    "\n",
    "biblScope O\n",
    "\n",
    "author PER\n",
    "\n",
    "item O\n",
    "\n",
    "placename LOC had problems\n",
    "\n",
    "p O UNCLEAR\n",
    "\n",
    "rs O UNCLEAR\n",
    "\n",
    "persname PER\n",
    "\n",
    "lang O\n",
    "\n",
    "geogName LOC\n",
    "\n",
    "placeName LOC\n",
    "\n",
    "l O\n",
    "\n",
    "occupation O\n",
    "\n",
    "num O\n",
    "\n",
    "play MISC_ENT\n",
    "\n",
    "rolename O\n",
    "\n",
    "country LOC\n",
    "\n",
    "education O\n",
    "\n",
    "docAuthor UNCLEAR\n",
    "\n",
    "quote O\n",
    "\n",
    "roleName O\n",
    "\n",
    "band ORG\n",
    "\n",
    "name UNCLEAR\n",
    "\n",
    "singleShow MISC_ENT\n",
    "\n",
    "ref UNCLEAR\n",
    "\n",
    "surename PER\n",
    "\n",
    "orgname ORG\n",
    "\n",
    "date DATE\n",
    "\n",
    "editor UNCLEAR\n",
    "\n",
    "hi UNCLEAR\n",
    "\n",
    "militaryservice ORG\n",
    "\n",
    "TVshow MISC_ENT\n",
    "\n",
    "surname PER\n",
    "\n",
    "title UNCLEAR"
   ]
  },
  {
   "cell_type": "markdown",
   "metadata": {},
   "source": [
    "We provide a simple code to 'translate' the tags to the tagset of the rest of the data. We convert UNCLEAR to O."
   ]
  },
  {
   "cell_type": "code",
   "execution_count": 18,
   "metadata": {},
   "outputs": [],
   "source": [
    "tags_dict = {   \n",
    "                \"movie\": \"MISC_ENT\",\n",
    "                \"book\": \"MISC_ENT\",\n",
    "                \"pubPlace\": \"LOC\",\n",
    "                \"persName\": \"PER\",\n",
    "                \"publisher\": \"ORG\",\n",
    "                \"forename\": \"PER\",\n",
    "                \"theater\": \"ORG\",\n",
    "                \"said\": \"O\",\n",
    "                \"orgName\": \"ORG\",\n",
    "                \"award\": \"MISC_EVENT\",\n",
    "                \"biblScope\": \"O\",\n",
    "                \"author\": \"PER\",\n",
    "                \"item\": \"O\",\n",
    "                \"placename\": \"LOC\",\n",
    "                \"p\": \"O\",\n",
    "                \"rs\": \"O\",\n",
    "                \"persname\": \"PER\",\n",
    "                \"lang\": \"O\",\n",
    "                \"geogName\": \"LOC\",\n",
    "                \"placeName\": \"LOC\",\n",
    "                \"l\": \"O\",\n",
    "                \"occupation\": \"O\",\n",
    "                \"num\": \"O\",\n",
    "                \"play\": \"MISC_ENT\",\n",
    "                \"rolename\": \"O\",\n",
    "                \"country\": \"LOC\",\n",
    "                \"education\": \"O\",\n",
    "                \"docAuthor\": \"O\",\n",
    "                \"quote\": \"O\",\n",
    "                \"roleName\": \"O\",\n",
    "                \"band\": \"ORG\",\n",
    "                \"name\": \"O\",\n",
    "                \"singleShow\": \"MISC_ENT\",\n",
    "                \"ref\": \"O\",\n",
    "                \"surename\": \"PER\",\n",
    "                \"orgname\": \"ORG\",\n",
    "                \"date\": \"DATE\",\n",
    "                \"editor\": \"O\",\n",
    "                \"hi\": \"O\",\n",
    "                \"militaryservice\": \"ORG\",\n",
    "                \"TVshow\": \"MISC_ENT\",\n",
    "                \"surname\": \"PER\",\n",
    "                \"title\": \"O\"\n",
    "            }"
   ]
  },
  {
   "cell_type": "code",
   "execution_count": 26,
   "metadata": {},
   "outputs": [],
   "source": [
    "f2 = open(\"yael_data_processed.txt\", \"w\")"
   ]
  },
  {
   "cell_type": "code",
   "execution_count": 27,
   "metadata": {},
   "outputs": [],
   "source": [
    "def write_body2(body):\n",
    "    tag = tags_dict[body.tag.split(\"}\")[1]] if body.tag.split(\"}\")[1] in tags_dict.keys() else \"O\"\n",
    "    if body.text:\n",
    "        for word in body.text.split(\" \"):\n",
    "            if len(word) and word.split():\n",
    "                f2.write(tag + \" \" + word + \"\\n\")\n",
    "    if body.tail:\n",
    "        for word in body.tail.split(\" \"):\n",
    "            if len(word) and word.split():\n",
    "                f2.write(\"O\" + \" \" + word + \"\\n\")\n",
    "    for child in body:\n",
    "        write_body2(child)\n",
    "\n",
    "def parse_tree2(root):\n",
    "    body = None\n",
    "    for child in root:\n",
    "        if child.tag[-4:] == 'body':\n",
    "            body = child\n",
    "            break\n",
    "        else:\n",
    "            parse_tree2(child)\n",
    "    if body is not None:\n",
    "        write_body2(body)"
   ]
  },
  {
   "cell_type": "code",
   "execution_count": 28,
   "metadata": {},
   "outputs": [],
   "source": [
    "for filepath in filepaths:\n",
    "    tree = ET.parse(filepath)\n",
    "    root = tree.getroot()\n",
    "    parse_tree2(root)\n",
    "    f2.write(\"\\n\\n\\n\\n\\n\")"
   ]
  },
  {
   "cell_type": "code",
   "execution_count": null,
   "metadata": {},
   "outputs": [],
   "source": []
  }
 ],
 "metadata": {
  "kernelspec": {
   "display_name": "Python 3",
   "language": "python",
   "name": "python3"
  },
  "language_info": {
   "codemirror_mode": {
    "name": "ipython",
    "version": 3
   },
   "file_extension": ".py",
   "mimetype": "text/x-python",
   "name": "python",
   "nbconvert_exporter": "python",
   "pygments_lexer": "ipython3",
   "version": "3.7.1"
  }
 },
 "nbformat": 4,
 "nbformat_minor": 2
}
